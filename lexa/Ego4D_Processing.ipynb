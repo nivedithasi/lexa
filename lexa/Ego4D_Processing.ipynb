{
 "cells": [
  {
   "cell_type": "code",
   "execution_count": 34,
   "id": "76dff50a-7d22-4892-a380-765f0bedba2c",
   "metadata": {},
   "outputs": [],
   "source": [
    "path = \"/nlp/scr2/nlp/ego4d/data/raw/ego4d/v1/annotations/moments_train.json\""
   ]
  },
  {
   "cell_type": "code",
   "execution_count": 35,
   "id": "9cdc393c-1291-41ff-acf9-b0478739945d",
   "metadata": {},
   "outputs": [],
   "source": [
    "import json\n",
    "import pprint as pp\n",
    "import os\n",
    "import av\n",
    "import cv2\n",
    "\n",
    "f = open(path)\n",
    "  \n",
    "# returns JSON object as \n",
    "# a dictionary\n",
    "data = json.load(f)"
   ]
  },
  {
   "cell_type": "code",
   "execution_count": 42,
   "id": "4e9d84a9-4b1d-42a4-9129-f2fac53d6328",
   "metadata": {},
   "outputs": [],
   "source": [
    "def crop(img, crop_wd, crop_ht):\n",
    "    ht, wd, _ = img.shape\n",
    "    if crop_wd > wd or crop_ht > ht:\n",
    "        padding = [\n",
    "                (crop_wd - wd) // 2 if crop_wd > wd else 0,\n",
    "                (crop_ht - ht) // 2 if crop_ht > ht else 0,\n",
    "                (crop_wd - wd + 1) // 2 if crop_wd > wd else 0,\n",
    "                (crop_ht - ht + 1) // 2 if crop_ht > ht else 0,\n",
    "                ]\n",
    "        img = pad(img, padding, fill=0)\n",
    "        ht, wd, _ = img.shape\n",
    "        if crop_wd == wd and crop_ht == ht:\n",
    "            return img\n",
    "    crop_top = int(round((ht - crop_ht) / 2.0))\n",
    "    crop_left = int(round((wd - crop_wd) / 2.0))\n",
    "    return img[crop_top:crop_top+crop_wd, crop_left:crop_left+crop_ht]\n",
    "\n",
    "\n",
    "def resize(img, size):\n",
    "    h, w, _= img.shape\n",
    "    if (w <= h and w == size) or (h <= w and h == size):\n",
    "        return img\n",
    "    if w < h:\n",
    "        ow = size\n",
    "        oh = int(size * h / w)\n",
    "        return cv2.resize(img, (ow, oh), interpolation=cv2.INTER_AREA)\n",
    "    else:\n",
    "        oh = size\n",
    "        ow = int(size * w / h)\n",
    "        return cv2.resize(img, (ow, oh), interpolation=cv2.INTER_AREA)"
   ]
  },
  {
   "cell_type": "code",
   "execution_count": 47,
   "id": "b9885644-c564-419e-beda-a1c0dae3b1ca",
   "metadata": {},
   "outputs": [
    {
     "name": "stdout",
     "output_type": "stream",
     "text": [
      "10499\n",
      "10429 10470\n"
     ]
    },
    {
     "ename": "TypeError",
     "evalue": "can only concatenate str (not \"dict\") to str",
     "output_type": "error",
     "traceback": [
      "\u001b[0;31m---------------------------------------------------------------------------\u001b[0m",
      "\u001b[0;31mTypeError\u001b[0m                                 Traceback (most recent call last)",
      "Input \u001b[0;32mIn [47]\u001b[0m, in \u001b[0;36m<module>\u001b[0;34m\u001b[0m\n\u001b[1;32m     46\u001b[0m             count \u001b[38;5;241m=\u001b[39m \u001b[38;5;241m0\u001b[39m\n\u001b[1;32m     47\u001b[0m             \u001b[38;5;28;01mfor\u001b[39;00m image \u001b[38;5;129;01min\u001b[39;00m images[start_frame:end_frame\u001b[38;5;241m+\u001b[39m\u001b[38;5;241m1\u001b[39m]:\n\u001b[0;32m---> 48\u001b[0m                 cv2\u001b[38;5;241m.\u001b[39mimwrite(\u001b[43mego_path\u001b[49m\u001b[43m \u001b[49m\u001b[38;5;241;43m+\u001b[39;49m\u001b[43m \u001b[49m\u001b[43mlabel\u001b[49m \u001b[38;5;241m+\u001b[39m \u001b[38;5;124m\"\u001b[39m\u001b[38;5;124m/\u001b[39m\u001b[38;5;132;01m%s\u001b[39;00m\u001b[38;5;124m.jpg\u001b[39m\u001b[38;5;124m\"\u001b[39m \u001b[38;5;241m%\u001b[39m (count), image) \n\u001b[1;32m     49\u001b[0m                 count \u001b[38;5;241m+\u001b[39m\u001b[38;5;241m=\u001b[39m \u001b[38;5;241m1\u001b[39m\n\u001b[1;32m     51\u001b[0m \u001b[38;5;28;01mbreak\u001b[39;00m\n",
      "\u001b[0;31mTypeError\u001b[0m: can only concatenate str (not \"dict\") to str"
     ]
    }
   ],
   "source": [
    "data_logger = []\n",
    "ego_path = \"/iris/u/nivsiyer/ego4d/\"\n",
    "\n",
    "for video in data['videos']:\n",
    "    \n",
    "    video_name = \"/nlp/scr2/nlp/ego4d/data/raw/ego4d/v1/full_scale/\" + video['video_uid'] + '.mp4'\n",
    "    try: \n",
    "        reader = av.open(video_name)\n",
    "    except:\n",
    "        print(\"Issue with opening the video path:\", video_name)\n",
    "        assert(False)\n",
    "        \n",
    "    # Convert video into a list of images\n",
    "    images = []\n",
    "    vidcap = cv2.VideoCapture(video_name)\n",
    "    success, image = vidcap.read()\n",
    "    image = resize(image, 64)\n",
    "    image = crop(image, 64, 64)\n",
    "    count = 0\n",
    "    while success:\n",
    "        images.append(image)     # save frame as JPEG file      \n",
    "        success, image = vidcap.read()\n",
    "        if success:\n",
    "            image = resize(image, 64)\n",
    "            image = crop(image, 64, 64)\n",
    "        count += 1\n",
    "        \n",
    "    print(len(images))\n",
    "        \n",
    "    clips = video['clips']\n",
    "    # print(clips)\n",
    "    for clip in clips:\n",
    "        annotations = clip['annotations']\n",
    "        for annot in annotations:\n",
    "            labels = annot['labels']\n",
    "            for label in labels:\n",
    "                start_time = label['video_start_time']\n",
    "                end_time = label['video_end_time']\n",
    "                start_frame = label['video_start_frame']\n",
    "                end_frame = label['video_end_frame']\n",
    "                task_name = label['label']\n",
    "                print(start_frame, end_frame)\n",
    "                os.makedirs(ego_path + task_name + \"/\" + video['video_uid'], exist_ok=True)\n",
    "                \n",
    "                # Save images in directory\n",
    "                count = 0\n",
    "                for image in images[start_frame:end_frame+1]:\n",
    "                    cv2.imwrite(ego_path + task_name + \"/%s.jpg\" % (count), image) \n",
    "                    count += 1\n",
    "                    \n",
    "    break"
   ]
  },
  {
   "cell_type": "code",
   "execution_count": null,
   "id": "7d7d7703-b9f9-439e-89e8-2740410492c8",
   "metadata": {},
   "outputs": [],
   "source": []
  }
 ],
 "metadata": {
  "kernelspec": {
   "display_name": "Python 3 (ipykernel)",
   "language": "python",
   "name": "python3"
  },
  "language_info": {
   "codemirror_mode": {
    "name": "ipython",
    "version": 3
   },
   "file_extension": ".py",
   "mimetype": "text/x-python",
   "name": "python",
   "nbconvert_exporter": "python",
   "pygments_lexer": "ipython3",
   "version": "3.8.5"
  }
 },
 "nbformat": 4,
 "nbformat_minor": 5
}
